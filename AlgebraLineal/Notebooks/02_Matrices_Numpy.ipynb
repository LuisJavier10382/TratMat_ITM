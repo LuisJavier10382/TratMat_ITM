{
  "nbformat": 4,
  "nbformat_minor": 0,
  "metadata": {
    "colab": {
      "name": "02_Matrices_Numpy.ipynb",
      "provenance": [],
      "collapsed_sections": []
    },
    "kernelspec": {
      "name": "python3",
      "display_name": "Python 3"
    }
  },
  "cells": [
    {
      "cell_type": "markdown",
      "metadata": {
        "id": "9lhzZWMv2Z_-",
        "colab_type": "text"
      },
      "source": [
        "# Matrices en Numpy"
      ]
    },
    {
      "cell_type": "markdown",
      "metadata": {
        "id": "v_oPB-tD32ju",
        "colab_type": "text"
      },
      "source": [
        "Basado en documento de la libreria [Numpy](https://docs.scipy.org/doc/scipy/reference/tutorial/linalg.html)"
      ]
    },
    {
      "cell_type": "markdown",
      "metadata": {
        "id": "sGX9onUt2lLI",
        "colab_type": "text"
      },
      "source": [
        "Importamos la librería Numpy con nombre \"np\"."
      ]
    },
    {
      "cell_type": "code",
      "metadata": {
        "id": "ZQWbAkRIcw2t",
        "colab_type": "code",
        "colab": {}
      },
      "source": [
        "import numpy as np"
      ],
      "execution_count": 22,
      "outputs": []
    },
    {
      "cell_type": "markdown",
      "metadata": {
        "id": "IhmszfJI8mcy",
        "colab_type": "text"
      },
      "source": [
        "## Matriz por filas"
      ]
    },
    {
      "cell_type": "markdown",
      "metadata": {
        "id": "4YucWNEU2tgw",
        "colab_type": "text"
      },
      "source": [
        "Para crear un arreglo en forma de matriz de 2 dimensiones (filas y columnas), se realiza así"
      ]
    },
    {
      "cell_type": "code",
      "metadata": {
        "id": "FzycxHSKc3T1",
        "colab_type": "code",
        "colab": {
          "base_uri": "https://localhost:8080/",
          "height": 50
        },
        "outputId": "e3f91796-b1e3-4896-e263-69913fd2bf26"
      },
      "source": [
        "A = np.array([[1,2,3],[4,5,6]])\n",
        "print(A, A.shape)"
      ],
      "execution_count": 43,
      "outputs": [
        {
          "output_type": "stream",
          "text": [
            "[[1 2 3]\n",
            " [4 5 6]] (2, 3)\n"
          ],
          "name": "stdout"
        }
      ]
    },
    {
      "cell_type": "code",
      "metadata": {
        "id": "HxEmdE2o_y82",
        "colab_type": "code",
        "colab": {
          "base_uri": "https://localhost:8080/",
          "height": 50
        },
        "outputId": "d3f58400-6d2f-45fb-a46a-c83a879c60b3"
      },
      "source": [
        "A2 = np.asarray([[1,2,3],[4,5,6]])\n",
        "print(A2, A2.shape)"
      ],
      "execution_count": 24,
      "outputs": [
        {
          "output_type": "stream",
          "text": [
            "[[1 2 3]\n",
            " [4 5 6]] (2, 3)\n"
          ],
          "name": "stdout"
        }
      ]
    },
    {
      "cell_type": "markdown",
      "metadata": {
        "colab_type": "text",
        "id": "6uaH3iB9HrG7"
      },
      "source": [
        "# Ampliando la matriz"
      ]
    },
    {
      "cell_type": "markdown",
      "metadata": {
        "id": "FNcIi2NI8sQq",
        "colab_type": "text"
      },
      "source": [
        "## Agregando filas a una matriz\n"
      ]
    },
    {
      "cell_type": "markdown",
      "metadata": {
        "id": "gac-ynnc3LVL",
        "colab_type": "text"
      },
      "source": [
        "Si quiere agregar una nueva fila a una matriz:"
      ]
    },
    {
      "cell_type": "code",
      "metadata": {
        "id": "HFG-VbrYc84e",
        "colab_type": "code",
        "colab": {
          "base_uri": "https://localhost:8080/",
          "height": 67
        },
        "outputId": "fad26673-6f61-4111-a3c5-78e4b97333f1"
      },
      "source": [
        "b = np.array([[7,8,9]])\n",
        "# axis=0 - concatena a lo largo de las filas\n",
        "print(np.concatenate((A, b), axis=0))"
      ],
      "execution_count": 25,
      "outputs": [
        {
          "output_type": "stream",
          "text": [
            "[[1 2 3]\n",
            " [4 5 6]\n",
            " [7 8 9]]\n"
          ],
          "name": "stdout"
        }
      ]
    },
    {
      "cell_type": "code",
      "metadata": {
        "id": "fnLXaDe7D-0Y",
        "colab_type": "code",
        "colab": {
          "base_uri": "https://localhost:8080/",
          "height": 67
        },
        "outputId": "82091073-840c-4e2d-bc99-3010ce364a53"
      },
      "source": [
        "print(np.vstack((A, b)))"
      ],
      "execution_count": 26,
      "outputs": [
        {
          "output_type": "stream",
          "text": [
            "[[1 2 3]\n",
            " [4 5 6]\n",
            " [7 8 9]]\n"
          ],
          "name": "stdout"
        }
      ]
    },
    {
      "cell_type": "code",
      "metadata": {
        "id": "MuQ5xvfKFeDW",
        "colab_type": "code",
        "colab": {
          "base_uri": "https://localhost:8080/",
          "height": 67
        },
        "outputId": "59d7af1d-33f3-4cbd-b5b1-5d824f93d4b5"
      },
      "source": [
        "# axis=0 - concatenate a lo largo de las filas\n",
        "np.append(A, b, axis=0)"
      ],
      "execution_count": 27,
      "outputs": [
        {
          "output_type": "execute_result",
          "data": {
            "text/plain": [
              "array([[1, 2, 3],\n",
              "       [4, 5, 6],\n",
              "       [7, 8, 9]])"
            ]
          },
          "metadata": {
            "tags": []
          },
          "execution_count": 27
        }
      ]
    },
    {
      "cell_type": "markdown",
      "metadata": {
        "id": "caIgzAcv7DY1",
        "colab_type": "text"
      },
      "source": [
        "Tambien podemos convertir el vector unidimensional en uno columna o fila, usando el método \"reshape\"."
      ]
    },
    {
      "cell_type": "markdown",
      "metadata": {
        "colab_type": "text",
        "id": "G2KzzK9VH1uG"
      },
      "source": [
        "## Agregando Columnas a una matriz\n"
      ]
    },
    {
      "cell_type": "code",
      "metadata": {
        "colab_type": "code",
        "id": "G1R4pNyBJC3R",
        "colab": {
          "base_uri": "https://localhost:8080/",
          "height": 50
        },
        "outputId": "f32614dc-6a79-478e-e738-69ad9b88d851"
      },
      "source": [
        "c = np.array([[7],[8]])\n",
        "# c = np.array([[7,8]]).T\n",
        "# axis=0 - concatena a lo largo de las columnas\n",
        "print(np.concatenate((A, c), axis=1))"
      ],
      "execution_count": 28,
      "outputs": [
        {
          "output_type": "stream",
          "text": [
            "[[1 2 3 7]\n",
            " [4 5 6 8]]\n"
          ],
          "name": "stdout"
        }
      ]
    },
    {
      "cell_type": "code",
      "metadata": {
        "colab_type": "code",
        "id": "H7zRadrkJC3p",
        "colab": {
          "base_uri": "https://localhost:8080/",
          "height": 50
        },
        "outputId": "b6e41a0a-3f07-4074-bd0a-80ef40235981"
      },
      "source": [
        "print(np.hstack((A,c)))"
      ],
      "execution_count": 29,
      "outputs": [
        {
          "output_type": "stream",
          "text": [
            "[[1 2 3 7]\n",
            " [4 5 6 8]]\n"
          ],
          "name": "stdout"
        }
      ]
    },
    {
      "cell_type": "code",
      "metadata": {
        "id": "L6mKcNhv4OVd",
        "colab_type": "code",
        "colab": {
          "base_uri": "https://localhost:8080/",
          "height": 50
        },
        "outputId": "e6809d4d-8145-4191-8836-d4efc6cdf675"
      },
      "source": [
        "# axis=0 - concatena a lo largo de las columnas\n",
        "print(np.concatenate((A, c), axis=1))"
      ],
      "execution_count": 30,
      "outputs": [
        {
          "output_type": "stream",
          "text": [
            "[[1 2 3 7]\n",
            " [4 5 6 8]]\n"
          ],
          "name": "stdout"
        }
      ]
    },
    {
      "cell_type": "markdown",
      "metadata": {
        "id": "PMWnaF3K8x4T",
        "colab_type": "text"
      },
      "source": [
        "# Medidas sobre matrices $R^{N\\times N}\\rightarrow R$ \n",
        "\n"
      ]
    },
    {
      "cell_type": "markdown",
      "metadata": {
        "id": "U3oBZRU5KFyL",
        "colab_type": "text"
      },
      "source": [
        "## Determinante"
      ]
    },
    {
      "cell_type": "code",
      "metadata": {
        "id": "XAdAOeBL0zA-",
        "colab_type": "code",
        "colab": {
          "base_uri": "https://localhost:8080/",
          "height": 34
        },
        "outputId": "9c5e8932-11ad-47c7-da3e-a2fce414612f"
      },
      "source": [
        "Ac = np.append(A, b, axis=0)\n",
        "np.linalg.det(Ac)"
      ],
      "execution_count": 44,
      "outputs": [
        {
          "output_type": "execute_result",
          "data": {
            "text/plain": [
              "0.0"
            ]
          },
          "metadata": {
            "tags": []
          },
          "execution_count": 44
        }
      ]
    },
    {
      "cell_type": "markdown",
      "metadata": {
        "id": "I_WVBE2s2ELT",
        "colab_type": "text"
      },
      "source": [
        "## Rango"
      ]
    },
    {
      "cell_type": "code",
      "metadata": {
        "id": "Bz4Z50tg1pNL",
        "colab_type": "code",
        "colab": {
          "base_uri": "https://localhost:8080/",
          "height": 34
        },
        "outputId": "46ad3a02-f9a4-4a48-e676-6e7d04bef35a"
      },
      "source": [
        "np.linalg.matrix_rank(Ac)"
      ],
      "execution_count": 47,
      "outputs": [
        {
          "output_type": "execute_result",
          "data": {
            "text/plain": [
              "2"
            ]
          },
          "metadata": {
            "tags": []
          },
          "execution_count": 47
        }
      ]
    },
    {
      "cell_type": "markdown",
      "metadata": {
        "id": "4B60qRNi2ChC",
        "colab_type": "text"
      },
      "source": [
        "## Norma"
      ]
    },
    {
      "cell_type": "code",
      "metadata": {
        "id": "gSreefzo2Ddx",
        "colab_type": "code",
        "colab": {
          "base_uri": "https://localhost:8080/",
          "height": 34
        },
        "outputId": "7454c1f2-2551-4a93-a3dd-ddbb4763b5ce"
      },
      "source": [
        "np.linalg.norm(Ac)"
      ],
      "execution_count": 48,
      "outputs": [
        {
          "output_type": "execute_result",
          "data": {
            "text/plain": [
              "16.881943016134134"
            ]
          },
          "metadata": {
            "tags": []
          },
          "execution_count": 48
        }
      ]
    },
    {
      "cell_type": "code",
      "metadata": {
        "id": "Ie9RqVmW2HiL",
        "colab_type": "code",
        "colab": {
          "base_uri": "https://localhost:8080/",
          "height": 34
        },
        "outputId": "f9a5843b-7034-4bf0-955b-6e4f03e6ffda"
      },
      "source": [
        "np.sqrt(np.sum(Ac**2))"
      ],
      "execution_count": 50,
      "outputs": [
        {
          "output_type": "execute_result",
          "data": {
            "text/plain": [
              "16.881943016134134"
            ]
          },
          "metadata": {
            "tags": []
          },
          "execution_count": 50
        }
      ]
    },
    {
      "cell_type": "markdown",
      "metadata": {
        "id": "vE8E2DKM7kp7",
        "colab_type": "text"
      },
      "source": [
        "## Traza de una matriz"
      ]
    },
    {
      "cell_type": "code",
      "metadata": {
        "id": "OpkXrcg87nCT",
        "colab_type": "code",
        "colab": {
          "base_uri": "https://localhost:8080/",
          "height": 34
        },
        "outputId": "c2cad2a4-1302-4080-abdf-5fcd59856a92"
      },
      "source": [
        "np.trace(A)"
      ],
      "execution_count": null,
      "outputs": [
        {
          "output_type": "execute_result",
          "data": {
            "text/plain": [
              "3.0"
            ]
          },
          "metadata": {
            "tags": []
          },
          "execution_count": 63
        }
      ]
    },
    {
      "cell_type": "markdown",
      "metadata": {
        "id": "W4gHbzJ52g76",
        "colab_type": "text"
      },
      "source": [
        "# Solucion a sistemas de ecuaciones"
      ]
    },
    {
      "cell_type": "markdown",
      "metadata": {
        "id": "9vF9MmvD2k-4",
        "colab_type": "text"
      },
      "source": [
        "Sunpoga que se tiene el siguiente sistemas de ecuaciones: <br>\n",
        "$x+3y+5z=10,$ <br>\n",
        "$2x+5y+z=8,$ <br>\n",
        "$2x+3y+8z=13$."
      ]
    },
    {
      "cell_type": "code",
      "metadata": {
        "id": "qZKfcSh32kZK",
        "colab_type": "code",
        "colab": {}
      },
      "source": [
        "A = np.array([[1, 3, 5],[2, 5, 1],[2,3,8]])\n",
        "b = np.array([[10, 8, 13]]).T"
      ],
      "execution_count": 52,
      "outputs": []
    },
    {
      "cell_type": "code",
      "metadata": {
        "id": "Jrq8nRGo3O3d",
        "colab_type": "code",
        "colab": {
          "base_uri": "https://localhost:8080/",
          "height": 67
        },
        "outputId": "4185c97b-3a99-411d-d30c-1d13565878f8"
      },
      "source": [
        "x1 = np.linalg.inv(A)@b\n",
        "print(x1)"
      ],
      "execution_count": 55,
      "outputs": [
        {
          "output_type": "stream",
          "text": [
            "[[-0.48]\n",
            " [ 1.56]\n",
            " [ 1.16]]\n"
          ],
          "name": "stdout"
        }
      ]
    },
    {
      "cell_type": "code",
      "metadata": {
        "id": "3oV5uzci3m00",
        "colab_type": "code",
        "colab": {
          "base_uri": "https://localhost:8080/",
          "height": 67
        },
        "outputId": "9cd6154b-0870-4347-ced9-564775741db6"
      },
      "source": [
        "x2 = np.linalg.inv(A).dot(b)\n",
        "print(x2)"
      ],
      "execution_count": 59,
      "outputs": [
        {
          "output_type": "stream",
          "text": [
            "[[-0.48]\n",
            " [ 1.56]\n",
            " [ 1.16]]\n"
          ],
          "name": "stdout"
        }
      ]
    },
    {
      "cell_type": "code",
      "metadata": {
        "id": "mRh1nhb53THr",
        "colab_type": "code",
        "colab": {
          "base_uri": "https://localhost:8080/",
          "height": 67
        },
        "outputId": "f9eb36e0-bbb0-41f4-8a22-062e7841e762"
      },
      "source": [
        "x2 = np.linalg.solve(A,b)\n",
        "print(x2)"
      ],
      "execution_count": 57,
      "outputs": [
        {
          "output_type": "stream",
          "text": [
            "[[-0.48]\n",
            " [ 1.56]\n",
            " [ 1.16]]\n"
          ],
          "name": "stdout"
        }
      ]
    },
    {
      "cell_type": "markdown",
      "metadata": {
        "id": "_CzUCS7O7-PT",
        "colab_type": "text"
      },
      "source": [
        "# Productos entre matrices"
      ]
    },
    {
      "cell_type": "code",
      "metadata": {
        "id": "obYNZSuE8AkT",
        "colab_type": "code",
        "colab": {}
      },
      "source": [
        "A = np.array([[1, 3, 5],[2, 5, 1],[2,3,8]])\n",
        "B = np.array([[2, 4, 1],[3, 6, 2],[7,2,5]])"
      ],
      "execution_count": 64,
      "outputs": []
    },
    {
      "cell_type": "code",
      "metadata": {
        "id": "JoBUbphA8Iv7",
        "colab_type": "code",
        "colab": {
          "base_uri": "https://localhost:8080/",
          "height": 67
        },
        "outputId": "d8384643-51eb-4d9f-dd52-80e5fab0001f"
      },
      "source": [
        "A@B"
      ],
      "execution_count": 65,
      "outputs": [
        {
          "output_type": "execute_result",
          "data": {
            "text/plain": [
              "array([[46, 32, 32],\n",
              "       [26, 40, 17],\n",
              "       [69, 42, 48]])"
            ]
          },
          "metadata": {
            "tags": []
          },
          "execution_count": 65
        }
      ]
    },
    {
      "cell_type": "code",
      "metadata": {
        "id": "zDojNCTj8K7T",
        "colab_type": "code",
        "colab": {
          "base_uri": "https://localhost:8080/",
          "height": 67
        },
        "outputId": "aa725a70-4ced-4ebe-b84b-4088419e80ca"
      },
      "source": [
        "B@A"
      ],
      "execution_count": 66,
      "outputs": [
        {
          "output_type": "execute_result",
          "data": {
            "text/plain": [
              "array([[12, 29, 22],\n",
              "       [19, 45, 37],\n",
              "       [21, 46, 77]])"
            ]
          },
          "metadata": {
            "tags": []
          },
          "execution_count": 66
        }
      ]
    },
    {
      "cell_type": "code",
      "metadata": {
        "id": "Z58eW00_8MpD",
        "colab_type": "code",
        "colab": {
          "base_uri": "https://localhost:8080/",
          "height": 67
        },
        "outputId": "49c91cd0-e4d1-423d-edd0-a6ea48e9190c"
      },
      "source": [
        "A.dot(B)"
      ],
      "execution_count": 67,
      "outputs": [
        {
          "output_type": "execute_result",
          "data": {
            "text/plain": [
              "array([[46, 32, 32],\n",
              "       [26, 40, 17],\n",
              "       [69, 42, 48]])"
            ]
          },
          "metadata": {
            "tags": []
          },
          "execution_count": 67
        }
      ]
    },
    {
      "cell_type": "code",
      "metadata": {
        "id": "tdYyIMwg8Tbg",
        "colab_type": "code",
        "colab": {
          "base_uri": "https://localhost:8080/",
          "height": 67
        },
        "outputId": "415665d4-c961-4e70-eedf-158e32287fb4"
      },
      "source": [
        "np.linalg.inv(A).dot(B)"
      ],
      "execution_count": 68,
      "outputs": [
        {
          "output_type": "execute_result",
          "data": {
            "text/plain": [
              "array([[ 4.28000000e+00, -2.00000000e+00,  3.64000000e+00],\n",
              "       [-1.16000000e+00,  2.00000000e+00, -1.08000000e+00],\n",
              "       [ 2.40000000e-01,  4.16333634e-17,  1.20000000e-01]])"
            ]
          },
          "metadata": {
            "tags": []
          },
          "execution_count": 68
        }
      ]
    },
    {
      "cell_type": "code",
      "metadata": {
        "id": "GK1MKF6r8XSE",
        "colab_type": "code",
        "colab": {
          "base_uri": "https://localhost:8080/",
          "height": 67
        },
        "outputId": "d84d6856-84be-48c2-a9dc-df8921a50a7c"
      },
      "source": [
        "np.linalg.solve(A,B)"
      ],
      "execution_count": 69,
      "outputs": [
        {
          "output_type": "execute_result",
          "data": {
            "text/plain": [
              "array([[ 4.28, -2.  ,  3.64],\n",
              "       [-1.16,  2.  , -1.08],\n",
              "       [ 0.24,  0.  ,  0.12]])"
            ]
          },
          "metadata": {
            "tags": []
          },
          "execution_count": 69
        }
      ]
    },
    {
      "cell_type": "markdown",
      "metadata": {
        "id": "PdEDfwjA4iwm",
        "colab_type": "text"
      },
      "source": [
        "# Forma Echelon"
      ]
    },
    {
      "cell_type": "markdown",
      "metadata": {
        "id": "tSOqLVB_4q1l",
        "colab_type": "text"
      },
      "source": [
        "Tomada de explicacion en [stackexchange](https://math.stackexchange.com/questions/3073083/how-to-reduce-matrix-into-row-echelon-form-in-python/3073117). Primero definimos una funcion que realiza el proceso de reduccion por filas."
      ]
    },
    {
      "cell_type": "code",
      "metadata": {
        "id": "fxMMNwCo4lbR",
        "colab_type": "code",
        "colab": {}
      },
      "source": [
        "def row_echelon(A):\n",
        "    \"\"\" Retorna la forma de echelon de A \"\"\"\n",
        "\n",
        "    # Si la matriz A no tiene filas o columnas,\n",
        "    # entonces se regresa la misma matriz\n",
        "    r, c = A.shape\n",
        "    if r == 0 or c == 0:\n",
        "        return A\n",
        "\n",
        "    # we search for non-zero element in the first column\n",
        "    for i in range(len(A)):\n",
        "        if A[i,0] != 0:\n",
        "            break\n",
        "    else:\n",
        "        # Si todos los elementos de la primera columna son ceros,\n",
        "        # se realiza la reduccion de la segunda columna\n",
        "        B = row_echelon(A[:,1:])\n",
        "        # y despues agregamos la columnas de ceros\n",
        "        return np.hstack([A[:,:1], B])\n",
        "\n",
        "    # Si un elemento diferente de cero no esta en la primera fila\n",
        "    # intercambiamos filas (pivoteo)\n",
        "    if i > 0:\n",
        "        ith_row = A[i].copy()\n",
        "        A[i] = A[0]\n",
        "        A[0] = ith_row\n",
        "\n",
        "    # dividimos la primera fila por su primer elemento\n",
        "    A[0] = A[0] / A[0,0]\n",
        "    # restamos la primera fila a las demas filas\n",
        "    # multiplicadas por el correspondiente primer elemento\n",
        "    A[1:] -= A[0] * A[1:,0:1]\n",
        "\n",
        "    # realizamos la reduccion para la segunda fila y columna en adelante\n",
        "    B = row_echelon(A[1:,1:])\n",
        "\n",
        "    # agregamos la primera fila y columna, y devolvemos el valor\n",
        "    return np.vstack([A[:1], np.hstack([A[1:,:1], B]) ])\n"
      ],
      "execution_count": 60,
      "outputs": []
    },
    {
      "cell_type": "code",
      "metadata": {
        "id": "9mddu8hy6MW0",
        "colab_type": "code",
        "colab": {
          "base_uri": "https://localhost:8080/",
          "height": 67
        },
        "outputId": "d448a51c-078a-4212-9d3d-b12411b48bf7"
      },
      "source": [
        "A = np.array([[4, 7, 3, 8],\n",
        "              [8, 3, 8, 7],\n",
        "              [2, 9, 5, 3]], dtype='float')\n",
        "\n",
        "row_echelon(A)"
      ],
      "execution_count": 61,
      "outputs": [
        {
          "output_type": "execute_result",
          "data": {
            "text/plain": [
              "array([[ 1.        ,  1.75      ,  0.75      ,  2.        ],\n",
              "       [ 0.        ,  1.        , -0.18181818,  0.81818182],\n",
              "       [ 0.        ,  0.        ,  1.        , -1.22222222]])"
            ]
          },
          "metadata": {
            "tags": []
          },
          "execution_count": 61
        }
      ]
    },
    {
      "cell_type": "code",
      "metadata": {
        "id": "Rq73ZOhS6MtT",
        "colab_type": "code",
        "colab": {}
      },
      "source": [
        ""
      ],
      "execution_count": null,
      "outputs": []
    }
  ]
}