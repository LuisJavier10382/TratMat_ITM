{
  "nbformat": 4,
  "nbformat_minor": 0,
  "metadata": {
    "colab": {
      "name": "03_FactorizacionMatrices.ipynb",
      "provenance": [],
      "collapsed_sections": []
    },
    "kernelspec": {
      "name": "python3",
      "display_name": "Python 3"
    }
  },
  "cells": [
    {
      "cell_type": "markdown",
      "metadata": {
        "id": "ImAmBmYvJFh9",
        "colab_type": "text"
      },
      "source": [
        "# Factorizacion de matrices"
      ]
    },
    {
      "cell_type": "markdown",
      "metadata": {
        "id": "5T1I7lCZX5wt",
        "colab_type": "text"
      },
      "source": [
        "Basado en los comandos descritos en [Numpy.linalg](https://numpy.org/doc/stable/reference/routines.linalg.html)"
      ]
    },
    {
      "cell_type": "markdown",
      "metadata": {
        "id": "oK9MqUwCJXI9",
        "colab_type": "text"
      },
      "source": [
        "## 1. Descomposición LU\n",
        "\n"
      ]
    },
    {
      "cell_type": "markdown",
      "metadata": {
        "id": "qXWrlxvUJqPg",
        "colab_type": "text"
      },
      "source": [
        "Para esta descomposicion usaremos la libreria Scipy."
      ]
    },
    {
      "cell_type": "code",
      "metadata": {
        "id": "qAHt3c80H3Ew",
        "colab_type": "code",
        "colab": {}
      },
      "source": [
        "from scipy.linalg import lu\n",
        "import numpy as np"
      ],
      "execution_count": 1,
      "outputs": []
    },
    {
      "cell_type": "markdown",
      "metadata": {
        "id": "gC8IcaAPPEJA",
        "colab_type": "text"
      },
      "source": [
        "El comando lu de Scipy nos retorna $\\mathbf{PA}=\\mathbf{LU}$"
      ]
    },
    {
      "cell_type": "code",
      "metadata": {
        "id": "Mc3Hd8o9Jxo-",
        "colab_type": "code",
        "colab": {
          "base_uri": "https://localhost:8080/",
          "height": 353
        },
        "outputId": "b33b951f-0350-41a4-f79c-87b171676b88"
      },
      "source": [
        "A = np.array([[2,4,-1,5,-2],[-4,-5,3,-8,1],[2,-5,-4,1,8],[-6,0,7,-3,1]])\n",
        "P, L, U = lu(A)\n",
        "print(P)\n",
        "print(L)\n",
        "print(U)\n",
        "print(P@(L@U))"
      ],
      "execution_count": 2,
      "outputs": [
        {
          "output_type": "stream",
          "text": [
            "[[0. 0. 0. 1.]\n",
            " [0. 1. 0. 0.]\n",
            " [0. 0. 1. 0.]\n",
            " [1. 0. 0. 0.]]\n",
            "[[ 1.          0.          0.          0.        ]\n",
            " [ 0.66666667  1.          0.          0.        ]\n",
            " [-0.33333333  1.          1.          0.        ]\n",
            " [-0.33333333 -0.8        -0.          1.        ]]\n",
            "[[-6.00000000e+00  0.00000000e+00  7.00000000e+00 -3.00000000e+00\n",
            "   1.00000000e+00]\n",
            " [ 0.00000000e+00 -5.00000000e+00 -1.66666667e+00 -6.00000000e+00\n",
            "   3.33333333e-01]\n",
            " [ 0.00000000e+00  0.00000000e+00 -8.88178420e-16  6.00000000e+00\n",
            "   8.00000000e+00]\n",
            " [ 0.00000000e+00  0.00000000e+00  0.00000000e+00 -8.00000000e-01\n",
            "  -1.40000000e+00]]\n",
            "[[ 2.  4. -1.  5. -2.]\n",
            " [-4. -5.  3. -8.  1.]\n",
            " [ 2. -5. -4.  1.  8.]\n",
            " [-6.  0.  7. -3.  1.]]\n"
          ],
          "name": "stdout"
        }
      ]
    },
    {
      "cell_type": "code",
      "metadata": {
        "id": "bgwusu6jPTdQ",
        "colab_type": "code",
        "colab": {
          "base_uri": "https://localhost:8080/",
          "height": 151
        },
        "outputId": "30da297b-ef5c-471f-eeee-db26ef9ebdf0"
      },
      "source": [
        "print(P@A)\n",
        "print(L@U)"
      ],
      "execution_count": 3,
      "outputs": [
        {
          "output_type": "stream",
          "text": [
            "[[-6.  0.  7. -3.  1.]\n",
            " [-4. -5.  3. -8.  1.]\n",
            " [ 2. -5. -4.  1.  8.]\n",
            " [ 2.  4. -1.  5. -2.]]\n",
            "[[-6.  0.  7. -3.  1.]\n",
            " [-4. -5.  3. -8.  1.]\n",
            " [ 2. -5. -4.  1.  8.]\n",
            " [ 2.  4. -1.  5. -2.]]\n"
          ],
          "name": "stdout"
        }
      ]
    },
    {
      "cell_type": "markdown",
      "metadata": {
        "id": "e_ijaiGmMCPL",
        "colab_type": "text"
      },
      "source": [
        "Solucion de sistemas de ecuacion con LU, $\\mathbf{A}\\mathbf{x}=\\mathbf{b}$, con <br>\n",
        "$$ \\mathbf{A} = \\begin{bmatrix} 3 & 7 & -2\\\\ -3 & 5 & 1\\\\ 6 & -4 & 0 \\end{bmatrix} \\quad \\mathbf{b} = \\begin{bmatrix} -7\\\\ 5\\\\ 2 \\end{bmatrix}$$"
      ]
    },
    {
      "cell_type": "code",
      "metadata": {
        "id": "VUFVcRa-MFyB",
        "colab_type": "code",
        "colab": {}
      },
      "source": [
        "A = np.array([[3,7,-2],[-3,5,1],[6,-4,0]])\n",
        "b = np.array([[-7],[5],[2]])"
      ],
      "execution_count": 4,
      "outputs": []
    },
    {
      "cell_type": "markdown",
      "metadata": {
        "id": "a0_Zx8yFRHTI",
        "colab_type": "text"
      },
      "source": [
        "Recordar que $\\mathbf{PA}=\\mathbf{LU}$, entonces $\\mathbf{LU}\\mathbf{x}=\\mathbf{Pb}$"
      ]
    },
    {
      "cell_type": "code",
      "metadata": {
        "id": "qkr8nkNCMO7f",
        "colab_type": "code",
        "colab": {}
      },
      "source": [
        "P,L,U = lu(A)"
      ],
      "execution_count": 5,
      "outputs": []
    },
    {
      "cell_type": "markdown",
      "metadata": {
        "id": "mxdcLK8kQyMI",
        "colab_type": "text"
      },
      "source": [
        "La solucion es $\\mathbf{x}=\\mathbf{U}^{-1}\\mathbf{L}^{-1}\\mathbf{P}\\mathbf{b}$"
      ]
    },
    {
      "cell_type": "code",
      "metadata": {
        "id": "zXTBVW22MaSA",
        "colab_type": "code",
        "colab": {
          "base_uri": "https://localhost:8080/",
          "height": 67
        },
        "outputId": "29528784-14b5-4ec5-a506-5834b091f617"
      },
      "source": [
        "x = np.linalg.solve(U,np.linalg.solve(L,P@b))\n",
        "print(x)"
      ],
      "execution_count": 6,
      "outputs": [
        {
          "output_type": "stream",
          "text": [
            "[[ 0.41111111]\n",
            " [-0.63333333]\n",
            " [-2.6       ]]\n"
          ],
          "name": "stdout"
        }
      ]
    },
    {
      "cell_type": "code",
      "metadata": {
        "id": "bPwwzNc4Mpqx",
        "colab_type": "code",
        "colab": {
          "base_uri": "https://localhost:8080/",
          "height": 118
        },
        "outputId": "de751ae8-0e6f-4f57-fda9-21dd4d41bcef"
      },
      "source": [
        "print(P@(A@x))\n",
        "print(b)"
      ],
      "execution_count": 7,
      "outputs": [
        {
          "output_type": "stream",
          "text": [
            "[[-7.]\n",
            " [ 5.]\n",
            " [ 2.]]\n",
            "[[-7]\n",
            " [ 5]\n",
            " [ 2]]\n"
          ],
          "name": "stdout"
        }
      ]
    },
    {
      "cell_type": "markdown",
      "metadata": {
        "id": "hGUd5iHtUljQ",
        "colab_type": "text"
      },
      "source": [
        "## 2. Descomposicion QR"
      ]
    },
    {
      "cell_type": "markdown",
      "metadata": {
        "id": "5FMpz5bfUvlm",
        "colab_type": "text"
      },
      "source": [
        "Aqui hacemos uso de la funcion qr dentron de la sub-libreria linalg de Numpy."
      ]
    },
    {
      "cell_type": "code",
      "metadata": {
        "id": "IktlnKyWUu1F",
        "colab_type": "code",
        "colab": {
          "base_uri": "https://localhost:8080/",
          "height": 84
        },
        "outputId": "a1a309ea-08b9-45f7-ec69-145a20b7a605"
      },
      "source": [
        "A = np.array([[1,0,0],[1,1,0],[1,1,1],[1,1,1]])\n",
        "print(A)"
      ],
      "execution_count": 8,
      "outputs": [
        {
          "output_type": "stream",
          "text": [
            "[[1 0 0]\n",
            " [1 1 0]\n",
            " [1 1 1]\n",
            " [1 1 1]]\n"
          ],
          "name": "stdout"
        }
      ]
    },
    {
      "cell_type": "code",
      "metadata": {
        "id": "YxnSFUO-MvM_",
        "colab_type": "code",
        "colab": {
          "base_uri": "https://localhost:8080/",
          "height": 134
        },
        "outputId": "f1e6396c-a01e-4d80-8a58-79ccd0f4b3de"
      },
      "source": [
        "Q,R = np.linalg.qr(A)\n",
        "print(Q)\n",
        "print(R)"
      ],
      "execution_count": 9,
      "outputs": [
        {
          "output_type": "stream",
          "text": [
            "[[-0.5         0.8660254   0.        ]\n",
            " [-0.5        -0.28867513  0.81649658]\n",
            " [-0.5        -0.28867513 -0.40824829]\n",
            " [-0.5        -0.28867513 -0.40824829]]\n",
            "[[-2.         -1.5        -1.        ]\n",
            " [ 0.         -0.8660254  -0.57735027]\n",
            " [ 0.          0.         -0.81649658]]\n"
          ],
          "name": "stdout"
        }
      ]
    },
    {
      "cell_type": "code",
      "metadata": {
        "id": "45zb6b51WZQ6",
        "colab_type": "code",
        "colab": {
          "base_uri": "https://localhost:8080/",
          "height": 67
        },
        "outputId": "de6fdb1e-3646-47ac-c927-4e485a618ef5"
      },
      "source": [
        "Q.T@Q"
      ],
      "execution_count": 10,
      "outputs": [
        {
          "output_type": "execute_result",
          "data": {
            "text/plain": [
              "array([[1.00000000e+00, 0.00000000e+00, 0.00000000e+00],\n",
              "       [0.00000000e+00, 1.00000000e+00, 6.34802232e-18],\n",
              "       [0.00000000e+00, 6.34802232e-18, 1.00000000e+00]])"
            ]
          },
          "metadata": {
            "tags": []
          },
          "execution_count": 10
        }
      ]
    },
    {
      "cell_type": "markdown",
      "metadata": {
        "id": "RN8wivAxXcZl",
        "colab_type": "text"
      },
      "source": [
        "## 3. Descomposición en valores singulares"
      ]
    },
    {
      "cell_type": "markdown",
      "metadata": {
        "id": "nRkAjeVJXvW2",
        "colab_type": "text"
      },
      "source": [
        "Para este caso usamos el comando svd en la sub-libreria linalg de Numpy."
      ]
    },
    {
      "cell_type": "code",
      "metadata": {
        "id": "KGWnJFifXnz5",
        "colab_type": "code",
        "colab": {
          "base_uri": "https://localhost:8080/",
          "height": 134
        },
        "outputId": "2f90542e-6ed7-4315-e5df-a4578e213c2d"
      },
      "source": [
        "A = np.array([[3,7,-2],[-3,5,1],[6,-4,0]])\n",
        "b = np.array([[-7],[5],[2]])\n",
        "U,S,V = np.linalg.svd(A)\n",
        "print(U)\n",
        "print(S)\n",
        "print(V)"
      ],
      "execution_count": 11,
      "outputs": [
        {
          "output_type": "stream",
          "text": [
            "[[ 0.55502967 -0.8007784  -0.22515775]\n",
            " [ 0.57599594  0.17469387  0.79856792]\n",
            " [-0.60014226 -0.57291885  0.55820539]]\n",
            "[9.88531219 7.0434192  1.29261319]\n",
            "[[-0.37062587  0.92720961 -0.05402595]\n",
            " [-0.90352849 -0.34646583  0.25218585]\n",
            " [ 0.215111    0.14228059  0.96616949]]\n"
          ],
          "name": "stdout"
        }
      ]
    },
    {
      "cell_type": "code",
      "metadata": {
        "id": "YC2kP1VmgzU-",
        "colab_type": "code",
        "colab": {
          "base_uri": "https://localhost:8080/",
          "height": 34
        },
        "outputId": "7857277e-09fa-4dea-bbd1-04da91622c12"
      },
      "source": [
        "S.shape"
      ],
      "execution_count": 12,
      "outputs": [
        {
          "output_type": "execute_result",
          "data": {
            "text/plain": [
              "(3,)"
            ]
          },
          "metadata": {
            "tags": []
          },
          "execution_count": 12
        }
      ]
    },
    {
      "cell_type": "code",
      "metadata": {
        "id": "gLVjoxMwYIOJ",
        "colab_type": "code",
        "colab": {
          "base_uri": "https://localhost:8080/",
          "height": 151
        },
        "outputId": "ff3ad94d-7c19-4f27-80e2-302022736bd7"
      },
      "source": [
        "print(U.T@U)\n",
        "print(V.T@V)\n",
        "print(np.prod(S))\n",
        "print(np.linalg.det(A))"
      ],
      "execution_count": 13,
      "outputs": [
        {
          "output_type": "stream",
          "text": [
            "[[ 1.00000000e+00  1.02746507e-16  6.44359149e-17]\n",
            " [ 1.02746507e-16  1.00000000e+00 -3.09020167e-17]\n",
            " [ 6.44359149e-17 -3.09020167e-17  1.00000000e+00]]\n",
            "[[ 1.00000000e+00 -1.80804591e-16 -6.78657194e-17]\n",
            " [-1.80804591e-16  1.00000000e+00 -5.46329321e-17]\n",
            " [-6.78657194e-17 -5.46329321e-17  1.00000000e+00]]\n",
            "89.99999999999997\n",
            "90.0\n"
          ],
          "name": "stdout"
        }
      ]
    },
    {
      "cell_type": "code",
      "metadata": {
        "id": "8ORHpEUbYODv",
        "colab_type": "code",
        "colab": {
          "base_uri": "https://localhost:8080/",
          "height": 67
        },
        "outputId": "05c1d905-be4f-4190-9f9c-2eb97155d791"
      },
      "source": [
        "np.diag(S)"
      ],
      "execution_count": 14,
      "outputs": [
        {
          "output_type": "execute_result",
          "data": {
            "text/plain": [
              "array([[9.88531219, 0.        , 0.        ],\n",
              "       [0.        , 7.0434192 , 0.        ],\n",
              "       [0.        , 0.        , 1.29261319]])"
            ]
          },
          "metadata": {
            "tags": []
          },
          "execution_count": 14
        }
      ]
    },
    {
      "cell_type": "code",
      "metadata": {
        "id": "LhKDXD0KaZJs",
        "colab_type": "code",
        "colab": {
          "base_uri": "https://localhost:8080/",
          "height": 118
        },
        "outputId": "95c76398-146f-400e-eebe-e2d36241372c"
      },
      "source": [
        "print(U@np.diag(S)@V)\n",
        "print(A)"
      ],
      "execution_count": 15,
      "outputs": [
        {
          "output_type": "stream",
          "text": [
            "[[ 3.00000000e+00  7.00000000e+00 -2.00000000e+00]\n",
            " [-3.00000000e+00  5.00000000e+00  1.00000000e+00]\n",
            " [ 6.00000000e+00 -4.00000000e+00  7.97392342e-16]]\n",
            "[[ 3  7 -2]\n",
            " [-3  5  1]\n",
            " [ 6 -4  0]]\n"
          ],
          "name": "stdout"
        }
      ]
    },
    {
      "cell_type": "markdown",
      "metadata": {
        "id": "JnWCzrXUZa0O",
        "colab_type": "text"
      },
      "source": [
        "Si $\\mathbf{A}\\mathbf{x}=\\mathbf{b}$ entonces $\\mathbf{USV}^{\\top}\\mathbf{x}=\\mathbf{b}$, entonces $\\mathbf{x}=\\mathbf{VS}^{-1}\\mathbf{U}^{\\top}\\mathbf{b}$"
      ]
    },
    {
      "cell_type": "code",
      "metadata": {
        "id": "x70Jf8k4ZFsR",
        "colab_type": "code",
        "colab": {
          "base_uri": "https://localhost:8080/",
          "height": 67
        },
        "outputId": "e0b6d9c0-41bb-4671-ebf8-034a4f9d6645"
      },
      "source": [
        "x = V.T@np.diag(1/S)@U.T@b\n",
        "print(x)"
      ],
      "execution_count": 16,
      "outputs": [
        {
          "output_type": "stream",
          "text": [
            "[[0.51111111]\n",
            " [0.26666667]\n",
            " [5.2       ]]\n"
          ],
          "name": "stdout"
        }
      ]
    },
    {
      "cell_type": "code",
      "metadata": {
        "id": "_0AltmwRaHYE",
        "colab_type": "code",
        "colab": {
          "base_uri": "https://localhost:8080/",
          "height": 118
        },
        "outputId": "7436da06-e89f-4aff-d192-7180be849105"
      },
      "source": [
        "print(A@x)\n",
        "print(b)"
      ],
      "execution_count": 17,
      "outputs": [
        {
          "output_type": "stream",
          "text": [
            "[[-7.]\n",
            " [ 5.]\n",
            " [ 2.]]\n",
            "[[-7]\n",
            " [ 5]\n",
            " [ 2]]\n"
          ],
          "name": "stdout"
        }
      ]
    },
    {
      "cell_type": "markdown",
      "metadata": {
        "id": "C3SqKSbxZOiO",
        "colab_type": "text"
      },
      "source": [
        "## 4. Pseudo inversas"
      ]
    },
    {
      "cell_type": "markdown",
      "metadata": {
        "id": "HnsSHmg5aoBk",
        "colab_type": "text"
      },
      "source": [
        "Para matrices rectangulares $\\mathbf{A}$, la pseudo inversa es $\\mathbf{A}^{\\dagger}=(\\mathbf{A^{\\top}}\\mathbf{A})^{-1}\\mathbf{A}^{\\top}$."
      ]
    },
    {
      "cell_type": "code",
      "metadata": {
        "id": "yS8H0jYAbU5P",
        "colab_type": "code",
        "colab": {
          "base_uri": "https://localhost:8080/",
          "height": 34
        },
        "outputId": "869c359c-8002-4cad-dde3-d9631e20a816"
      },
      "source": [
        "A1 = np.array([[2,4,-1,5,-2],[-4,-5,3,-8,1],[2,-5,-4,1,8],[-6,0,7,-3,1]])\n",
        "A2 = np.array([[1,0,0],[1,1,0],[1,1,1],[1,1,1]])\n",
        "print(A1.shape,A2.shape)"
      ],
      "execution_count": 18,
      "outputs": [
        {
          "output_type": "stream",
          "text": [
            "(4, 5) (4, 3)\n"
          ],
          "name": "stdout"
        }
      ]
    },
    {
      "cell_type": "code",
      "metadata": {
        "id": "q6Gy7Hb6ZQGQ",
        "colab_type": "code",
        "colab": {}
      },
      "source": [
        "A1pinv = np.linalg.pinv(A1)\n",
        "A2pinv = np.linalg.pinv(A2)"
      ],
      "execution_count": 19,
      "outputs": []
    },
    {
      "cell_type": "code",
      "metadata": {
        "id": "oRnQQY6XchZs",
        "colab_type": "code",
        "colab": {
          "base_uri": "https://localhost:8080/",
          "height": 84
        },
        "outputId": "8b252e14-f5a4-4fd5-bb1b-678dd35a25ff"
      },
      "source": [
        "print(A1@A1pinv)"
      ],
      "execution_count": 20,
      "outputs": [
        {
          "output_type": "stream",
          "text": [
            "[[ 1.00000000e+00 -8.88178420e-16 -2.22044605e-16  5.55111512e-17]\n",
            " [ 1.24344979e-14  1.00000000e+00  2.22044605e-16 -1.66533454e-16]\n",
            " [ 0.00000000e+00  0.00000000e+00  1.00000000e+00 -6.66133815e-16]\n",
            " [ 9.76996262e-15  6.21724894e-15  2.22044605e-15  1.00000000e+00]]\n"
          ],
          "name": "stdout"
        }
      ]
    },
    {
      "cell_type": "code",
      "metadata": {
        "id": "XhK7fJqBdgU5",
        "colab_type": "code",
        "colab": {
          "base_uri": "https://localhost:8080/",
          "height": 67
        },
        "outputId": "3ebf6f43-dc65-4b10-9372-8392f21557aa"
      },
      "source": [
        "print(A2pinv@A2)"
      ],
      "execution_count": 21,
      "outputs": [
        {
          "output_type": "stream",
          "text": [
            "[[ 1.00000000e+00 -5.07190585e-16 -7.54909981e-17]\n",
            " [ 3.69293411e-16  1.00000000e+00  1.47248807e-16]\n",
            " [-1.66533454e-16 -3.88578059e-16  1.00000000e+00]]\n"
          ],
          "name": "stdout"
        }
      ]
    },
    {
      "cell_type": "code",
      "metadata": {
        "id": "8wKNJ_2jdnqO",
        "colab_type": "code",
        "colab": {}
      },
      "source": [
        ""
      ],
      "execution_count": 21,
      "outputs": []
    }
  ]
}