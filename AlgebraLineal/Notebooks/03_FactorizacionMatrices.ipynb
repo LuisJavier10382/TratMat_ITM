{
  "nbformat": 4,
  "nbformat_minor": 0,
  "metadata": {
    "colab": {
      "name": "03_FactorizacionMatrices.ipynb",
      "provenance": [],
      "collapsed_sections": []
    },
    "kernelspec": {
      "name": "python3",
      "display_name": "Python 3"
    }
  },
  "cells": [
    {
      "cell_type": "markdown",
      "metadata": {
        "id": "ImAmBmYvJFh9",
        "colab_type": "text"
      },
      "source": [
        "# Factorizacion de matrices"
      ]
    },
    {
      "cell_type": "markdown",
      "metadata": {
        "id": "5T1I7lCZX5wt",
        "colab_type": "text"
      },
      "source": [
        "Basado en los comandos descritos en [Numpy.linalg](https://numpy.org/doc/stable/reference/routines.linalg.html)"
      ]
    },
    {
      "cell_type": "markdown",
      "metadata": {
        "id": "oK9MqUwCJXI9",
        "colab_type": "text"
      },
      "source": [
        "## 1. Descomposicionó LU\n",
        "\n"
      ]
    },
    {
      "cell_type": "markdown",
      "metadata": {
        "id": "qXWrlxvUJqPg",
        "colab_type": "text"
      },
      "source": [
        "Para esta descomposicion usaremos la libreria Scipy."
      ]
    },
    {
      "cell_type": "code",
      "metadata": {
        "id": "qAHt3c80H3Ew",
        "colab_type": "code",
        "colab": {}
      },
      "source": [
        "from scipy.linalg import lu\n",
        "import numpy as np"
      ],
      "execution_count": 73,
      "outputs": []
    },
    {
      "cell_type": "markdown",
      "metadata": {
        "id": "gC8IcaAPPEJA",
        "colab_type": "text"
      },
      "source": [
        "El comando lu de Scipy nos retorna $\\mathbf{PA}=\\mathbf{LU}$"
      ]
    },
    {
      "cell_type": "code",
      "metadata": {
        "id": "Mc3Hd8o9Jxo-",
        "colab_type": "code",
        "colab": {
          "base_uri": "https://localhost:8080/",
          "height": 353
        },
        "outputId": "191ff0aa-8b14-42ac-981d-d7e3f66bd1fa"
      },
      "source": [
        "A = np.array([[2,4,-1,5,-2],[-4,-5,3,-8,1],[2,-5,-4,1,8],[-6,0,7,-3,1]])\n",
        "P, L, U = lu(A)\n",
        "print(P)\n",
        "print(L)\n",
        "print(U)\n",
        "print(P@(L@U))"
      ],
      "execution_count": 72,
      "outputs": [
        {
          "output_type": "stream",
          "text": [
            "[[0. 0. 0. 1.]\n",
            " [0. 1. 0. 0.]\n",
            " [0. 0. 1. 0.]\n",
            " [1. 0. 0. 0.]]\n",
            "[[ 1.          0.          0.          0.        ]\n",
            " [ 0.66666667  1.          0.          0.        ]\n",
            " [-0.33333333  1.          1.          0.        ]\n",
            " [-0.33333333 -0.8        -0.          1.        ]]\n",
            "[[-6.00000000e+00  0.00000000e+00  7.00000000e+00 -3.00000000e+00\n",
            "   1.00000000e+00]\n",
            " [ 0.00000000e+00 -5.00000000e+00 -1.66666667e+00 -6.00000000e+00\n",
            "   3.33333333e-01]\n",
            " [ 0.00000000e+00  0.00000000e+00 -8.88178420e-16  6.00000000e+00\n",
            "   8.00000000e+00]\n",
            " [ 0.00000000e+00  0.00000000e+00  0.00000000e+00 -8.00000000e-01\n",
            "  -1.40000000e+00]]\n",
            "[[ 2.  4. -1.  5. -2.]\n",
            " [-4. -5.  3. -8.  1.]\n",
            " [ 2. -5. -4.  1.  8.]\n",
            " [-6.  0.  7. -3.  1.]]\n"
          ],
          "name": "stdout"
        }
      ]
    },
    {
      "cell_type": "code",
      "metadata": {
        "id": "bgwusu6jPTdQ",
        "colab_type": "code",
        "colab": {
          "base_uri": "https://localhost:8080/",
          "height": 151
        },
        "outputId": "4481a384-0b29-42d1-f28a-d8bace2b2048"
      },
      "source": [
        "pprint(P@A)\n",
        "pprint(L@U)"
      ],
      "execution_count": null,
      "outputs": [
        {
          "output_type": "stream",
          "text": [
            "array([[-6.,  0.,  7., -3.,  1.],\n",
            "       [-4., -5.,  3., -8.,  1.],\n",
            "       [ 2., -5., -4.,  1.,  8.],\n",
            "       [ 2.,  4., -1.,  5., -2.]])\n",
            "array([[-6.,  0.,  7., -3.,  1.],\n",
            "       [-4., -5.,  3., -8.,  1.],\n",
            "       [ 2., -5., -4.,  1.,  8.],\n",
            "       [ 2.,  4., -1.,  5., -2.]])\n"
          ],
          "name": "stdout"
        }
      ]
    },
    {
      "cell_type": "markdown",
      "metadata": {
        "id": "e_ijaiGmMCPL",
        "colab_type": "text"
      },
      "source": [
        "Solucion de sistemas de ecuacion con LU, $\\mathbf{A}\\mathbf{x}=\\mathbf{b}$, con <br>\n",
        "$$ \\mathbf{A} = \\begin{bmatrix} 3 & 7 & -2\\\\ -3 & 5 & 1\\\\ 6 & -4 & 0 \\end{bmatrix} \\quad \\mathbf{b} = \\begin{bmatrix} -7\\\\ 5\\\\ 2 \\end{bmatrix}$$"
      ]
    },
    {
      "cell_type": "code",
      "metadata": {
        "id": "VUFVcRa-MFyB",
        "colab_type": "code",
        "colab": {}
      },
      "source": [
        "A = np.array([[3,7,-2],[-3,5,1],[6,-4,0]])\n",
        "b = np.array([[-7],[5],[2]])"
      ],
      "execution_count": 60,
      "outputs": []
    },
    {
      "cell_type": "markdown",
      "metadata": {
        "id": "a0_Zx8yFRHTI",
        "colab_type": "text"
      },
      "source": [
        "Recordar que $\\mathbf{PA}=\\mathbf{LU}$, entonces $\\mathbf{LU}\\mathbf{x}=\\mathbf{Pb}$"
      ]
    },
    {
      "cell_type": "code",
      "metadata": {
        "id": "qkr8nkNCMO7f",
        "colab_type": "code",
        "colab": {}
      },
      "source": [
        "P,L,U = lu(A)"
      ],
      "execution_count": 43,
      "outputs": []
    },
    {
      "cell_type": "markdown",
      "metadata": {
        "id": "mxdcLK8kQyMI",
        "colab_type": "text"
      },
      "source": [
        "La solucion es $\\mathbf{x}=\\mathbf{U}^{-1}\\mathbf{L}^{-1}\\mathbf{P}\\mathbf{b}$"
      ]
    },
    {
      "cell_type": "code",
      "metadata": {
        "id": "zXTBVW22MaSA",
        "colab_type": "code",
        "colab": {
          "base_uri": "https://localhost:8080/",
          "height": 67
        },
        "outputId": "3f442022-7c2c-424f-a1c5-819aed52f37c"
      },
      "source": [
        "x = np.linalg.solve(U,np.linalg.solve(L,P@b))\n",
        "print(x)"
      ],
      "execution_count": 52,
      "outputs": [
        {
          "output_type": "stream",
          "text": [
            "[[ 0.41111111]\n",
            " [-0.63333333]\n",
            " [-2.6       ]]\n"
          ],
          "name": "stdout"
        }
      ]
    },
    {
      "cell_type": "code",
      "metadata": {
        "id": "bPwwzNc4Mpqx",
        "colab_type": "code",
        "colab": {
          "base_uri": "https://localhost:8080/",
          "height": 118
        },
        "outputId": "adb749c1-c806-4125-a627-0aaea7708c4c"
      },
      "source": [
        "print(P@(A@x))\n",
        "print(b)"
      ],
      "execution_count": 64,
      "outputs": [
        {
          "output_type": "stream",
          "text": [
            "[[-7.]\n",
            " [ 5.]\n",
            " [ 2.]]\n",
            "[[-7]\n",
            " [ 5]\n",
            " [ 2]]\n"
          ],
          "name": "stdout"
        }
      ]
    },
    {
      "cell_type": "markdown",
      "metadata": {
        "id": "hGUd5iHtUljQ",
        "colab_type": "text"
      },
      "source": [
        "## 2. Descomposicion QR"
      ]
    },
    {
      "cell_type": "markdown",
      "metadata": {
        "id": "5FMpz5bfUvlm",
        "colab_type": "text"
      },
      "source": [
        "Aqui hacemos uso de la funcion qr dentron de la sub-libreria linalg de Numpy."
      ]
    },
    {
      "cell_type": "code",
      "metadata": {
        "id": "IktlnKyWUu1F",
        "colab_type": "code",
        "colab": {}
      },
      "source": [
        "A = np.array([[1,0,0],[1,1,0],[1,1,1],[1,1,1]])"
      ],
      "execution_count": 75,
      "outputs": []
    },
    {
      "cell_type": "code",
      "metadata": {
        "id": "YxnSFUO-MvM_",
        "colab_type": "code",
        "colab": {
          "base_uri": "https://localhost:8080/",
          "height": 134
        },
        "outputId": "552d0342-d8b4-4864-b5bf-58ba7f004ae8"
      },
      "source": [
        "Q,R = np.linalg.qr(A)\n",
        "print(Q)\n",
        "print(R)"
      ],
      "execution_count": 77,
      "outputs": [
        {
          "output_type": "stream",
          "text": [
            "[[-0.5         0.8660254   0.        ]\n",
            " [-0.5        -0.28867513  0.81649658]\n",
            " [-0.5        -0.28867513 -0.40824829]\n",
            " [-0.5        -0.28867513 -0.40824829]]\n",
            "[[-2.         -1.5        -1.        ]\n",
            " [ 0.         -0.8660254  -0.57735027]\n",
            " [ 0.          0.         -0.81649658]]\n"
          ],
          "name": "stdout"
        }
      ]
    },
    {
      "cell_type": "code",
      "metadata": {
        "id": "45zb6b51WZQ6",
        "colab_type": "code",
        "colab": {
          "base_uri": "https://localhost:8080/",
          "height": 67
        },
        "outputId": "c18d5bf7-3a1d-4f90-ca19-a40ba7801d99"
      },
      "source": [
        "Q.T@Q"
      ],
      "execution_count": 79,
      "outputs": [
        {
          "output_type": "execute_result",
          "data": {
            "text/plain": [
              "array([[1.00000000e+00, 0.00000000e+00, 0.00000000e+00],\n",
              "       [0.00000000e+00, 1.00000000e+00, 6.34802232e-18],\n",
              "       [0.00000000e+00, 6.34802232e-18, 1.00000000e+00]])"
            ]
          },
          "metadata": {
            "tags": []
          },
          "execution_count": 79
        }
      ]
    },
    {
      "cell_type": "markdown",
      "metadata": {
        "id": "RN8wivAxXcZl",
        "colab_type": "text"
      },
      "source": [
        "## 3. Descomposición en valores singulares"
      ]
    },
    {
      "cell_type": "markdown",
      "metadata": {
        "id": "nRkAjeVJXvW2",
        "colab_type": "text"
      },
      "source": [
        "Para este caso usamos el comando svd en la sub-libreria linalg de Numpy."
      ]
    },
    {
      "cell_type": "code",
      "metadata": {
        "id": "KGWnJFifXnz5",
        "colab_type": "code",
        "colab": {
          "base_uri": "https://localhost:8080/",
          "height": 134
        },
        "outputId": "9b7f5650-508e-4bf9-bce3-b5bb09fd1b62"
      },
      "source": [
        "A = np.array([[3,7,-2],[-3,5,1],[6,-4,0]])\n",
        "b = np.array([[-7],[5],[2]])\n",
        "U,S,V = np.linalg.svd(A)\n",
        "print(U)\n",
        "print(S)\n",
        "print(V)"
      ],
      "execution_count": 89,
      "outputs": [
        {
          "output_type": "stream",
          "text": [
            "[[ 0.55502967 -0.8007784  -0.22515775]\n",
            " [ 0.57599594  0.17469387  0.79856792]\n",
            " [-0.60014226 -0.57291885  0.55820539]]\n",
            "[9.88531219 7.0434192  1.29261319]\n",
            "[[-0.37062587  0.92720961 -0.05402595]\n",
            " [-0.90352849 -0.34646583  0.25218585]\n",
            " [ 0.215111    0.14228059  0.96616949]]\n"
          ],
          "name": "stdout"
        }
      ]
    },
    {
      "cell_type": "code",
      "metadata": {
        "id": "gLVjoxMwYIOJ",
        "colab_type": "code",
        "colab": {
          "base_uri": "https://localhost:8080/",
          "height": 151
        },
        "outputId": "e1013fb8-0ad7-4ae3-d9eb-738a0b6f6f1e"
      },
      "source": [
        "print(U.T@U)\n",
        "print(V.T@V)\n",
        "print(np.prod(S))\n",
        "print(np.linalg.det(A))"
      ],
      "execution_count": 93,
      "outputs": [
        {
          "output_type": "stream",
          "text": [
            "[[ 1.00000000e+00  1.02746507e-16  6.44359149e-17]\n",
            " [ 1.02746507e-16  1.00000000e+00 -3.09020167e-17]\n",
            " [ 6.44359149e-17 -3.09020167e-17  1.00000000e+00]]\n",
            "[[ 1.00000000e+00 -1.80804591e-16 -6.78657194e-17]\n",
            " [-1.80804591e-16  1.00000000e+00 -5.46329321e-17]\n",
            " [-6.78657194e-17 -5.46329321e-17  1.00000000e+00]]\n",
            "89.99999999999997\n",
            "90.0\n"
          ],
          "name": "stdout"
        }
      ]
    },
    {
      "cell_type": "code",
      "metadata": {
        "id": "8ORHpEUbYODv",
        "colab_type": "code",
        "colab": {
          "base_uri": "https://localhost:8080/",
          "height": 67
        },
        "outputId": "25809648-6578-4b5a-883e-8bb87107746f"
      },
      "source": [
        "np.diag(S)"
      ],
      "execution_count": 94,
      "outputs": [
        {
          "output_type": "execute_result",
          "data": {
            "text/plain": [
              "array([[9.88531219, 0.        , 0.        ],\n",
              "       [0.        , 7.0434192 , 0.        ],\n",
              "       [0.        , 0.        , 1.29261319]])"
            ]
          },
          "metadata": {
            "tags": []
          },
          "execution_count": 94
        }
      ]
    },
    {
      "cell_type": "code",
      "metadata": {
        "id": "LhKDXD0KaZJs",
        "colab_type": "code",
        "colab": {
          "base_uri": "https://localhost:8080/",
          "height": 118
        },
        "outputId": "4d424284-2773-4388-fd4a-1eda49e9f73b"
      },
      "source": [
        "print(U@np.diag(S)@V)\n",
        "print(A)"
      ],
      "execution_count": 102,
      "outputs": [
        {
          "output_type": "stream",
          "text": [
            "[[ 3.00000000e+00  7.00000000e+00 -2.00000000e+00]\n",
            " [-3.00000000e+00  5.00000000e+00  1.00000000e+00]\n",
            " [ 6.00000000e+00 -4.00000000e+00  7.97392342e-16]]\n",
            "[[ 3  7 -2]\n",
            " [-3  5  1]\n",
            " [ 6 -4  0]]\n"
          ],
          "name": "stdout"
        }
      ]
    },
    {
      "cell_type": "markdown",
      "metadata": {
        "id": "JnWCzrXUZa0O",
        "colab_type": "text"
      },
      "source": [
        "Si $\\mathbf{A}\\mathbf{x}=\\mathbf{b}$ entonces $\\mathbf{USV}^{\\top}\\mathbf{x}=\\mathbf{b}$, entonces $\\mathbf{x}=\\mathbf{b}$ entonces $\\mathbf{x}=\\mathbf{VS}^{-1}\\mathbf{U}^{\\top}\\mathbf{b}$"
      ]
    },
    {
      "cell_type": "code",
      "metadata": {
        "id": "x70Jf8k4ZFsR",
        "colab_type": "code",
        "colab": {
          "base_uri": "https://localhost:8080/",
          "height": 67
        },
        "outputId": "6aae0a48-5aa1-47a7-da26-a708abc59ca7"
      },
      "source": [
        "x = V.T@np.diag(1/S)@U.T@b\n",
        "print(x)"
      ],
      "execution_count": 100,
      "outputs": [
        {
          "output_type": "stream",
          "text": [
            "[[0.51111111]\n",
            " [0.26666667]\n",
            " [5.2       ]]\n"
          ],
          "name": "stdout"
        }
      ]
    },
    {
      "cell_type": "code",
      "metadata": {
        "id": "_0AltmwRaHYE",
        "colab_type": "code",
        "colab": {
          "base_uri": "https://localhost:8080/",
          "height": 118
        },
        "outputId": "ef720e52-aad9-468c-9890-fc223e1ee7a5"
      },
      "source": [
        "print(A@x)\n",
        "print(b)"
      ],
      "execution_count": 101,
      "outputs": [
        {
          "output_type": "stream",
          "text": [
            "[[-7.]\n",
            " [ 5.]\n",
            " [ 2.]]\n",
            "[[-7]\n",
            " [ 5]\n",
            " [ 2]]\n"
          ],
          "name": "stdout"
        }
      ]
    },
    {
      "cell_type": "markdown",
      "metadata": {
        "id": "C3SqKSbxZOiO",
        "colab_type": "text"
      },
      "source": [
        "## 4. Pseudo inversas"
      ]
    },
    {
      "cell_type": "markdown",
      "metadata": {
        "id": "HnsSHmg5aoBk",
        "colab_type": "text"
      },
      "source": [
        "Para matrices rectangulares $\\mathbf{A}$, la pseudo inversa es $\\mathbf{A}^{\\dagger}=(\\mathbf{A^{\\top}}\\mathbf{A})^{-1}\\mathbf{A}^{\\top}$."
      ]
    },
    {
      "cell_type": "code",
      "metadata": {
        "id": "yS8H0jYAbU5P",
        "colab_type": "code",
        "colab": {
          "base_uri": "https://localhost:8080/",
          "height": 34
        },
        "outputId": "40c7b86e-8f3a-403a-e373-35414db17a1d"
      },
      "source": [
        "A1 = np.array([[2,4,-1,5,-2],[-4,-5,3,-8,1],[2,-5,-4,1,8],[-6,0,7,-3,1]])\n",
        "A2 = np.array([[1,0,0],[1,1,0],[1,1,1],[1,1,1]])\n",
        "print(A1.shape,A2.shape)"
      ],
      "execution_count": 129,
      "outputs": [
        {
          "output_type": "stream",
          "text": [
            "(4, 5) (4, 3)\n"
          ],
          "name": "stdout"
        }
      ]
    },
    {
      "cell_type": "code",
      "metadata": {
        "id": "q6Gy7Hb6ZQGQ",
        "colab_type": "code",
        "colab": {}
      },
      "source": [
        "A1pinv = np.linalg.pinv(A1)\n",
        "A2pinv = np.linalg.pinv(A2)"
      ],
      "execution_count": 124,
      "outputs": []
    },
    {
      "cell_type": "code",
      "metadata": {
        "id": "oRnQQY6XchZs",
        "colab_type": "code",
        "colab": {
          "base_uri": "https://localhost:8080/",
          "height": 84
        },
        "outputId": "a2136ee8-c819-48b0-f0ab-896f954fb743"
      },
      "source": [
        "print(A1@A1pinv)"
      ],
      "execution_count": 126,
      "outputs": [
        {
          "output_type": "stream",
          "text": [
            "[[ 1.00000000e+00 -8.88178420e-16 -2.22044605e-16  5.55111512e-17]\n",
            " [ 1.24344979e-14  1.00000000e+00  2.22044605e-16 -1.66533454e-16]\n",
            " [ 0.00000000e+00  0.00000000e+00  1.00000000e+00 -6.66133815e-16]\n",
            " [ 9.76996262e-15  6.21724894e-15  2.22044605e-15  1.00000000e+00]]\n"
          ],
          "name": "stdout"
        }
      ]
    },
    {
      "cell_type": "code",
      "metadata": {
        "id": "XhK7fJqBdgU5",
        "colab_type": "code",
        "colab": {
          "base_uri": "https://localhost:8080/",
          "height": 67
        },
        "outputId": "97565c8e-0834-4d89-b093-1f8001a66b8d"
      },
      "source": [
        "print(A2pinv@A2)"
      ],
      "execution_count": 128,
      "outputs": [
        {
          "output_type": "stream",
          "text": [
            "[[ 1.00000000e+00 -5.07190585e-16 -7.54909981e-17]\n",
            " [ 3.69293411e-16  1.00000000e+00  1.47248807e-16]\n",
            " [-1.66533454e-16 -3.88578059e-16  1.00000000e+00]]\n"
          ],
          "name": "stdout"
        }
      ]
    },
    {
      "cell_type": "code",
      "metadata": {
        "id": "8wKNJ_2jdnqO",
        "colab_type": "code",
        "colab": {}
      },
      "source": [
        ""
      ],
      "execution_count": null,
      "outputs": []
    }
  ]
}